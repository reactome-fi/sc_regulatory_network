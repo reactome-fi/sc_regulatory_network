{
 "cells": [
  {
   "attachments": {},
   "cell_type": "markdown",
   "id": "9a9ac818",
   "metadata": {},
   "source": [
    "### Build a network model between significant TFs and pathways in cluster 0, one of dendrite cells\n",
    "\n",
    "**Note:** *The code below may utilize some pre-generated results, such as correlation results between TFs and pathways in a csv file, as well as AUCell-based pathway and TF activities stored in the h5ad file. The code for generating these results can be found in sc_regulatory_network_construction.py. Examples on how to generate these results will be provided here soon. Currently, the code in this notebook focuses on building the gene expression regulatory network for DC Cluster 0.*"
   ]
  },
  {
   "cell_type": "code",
   "execution_count": null,
   "id": "fe246dd6",
   "metadata": {},
   "outputs": [],
   "source": [
    "# Make cell wider\n",
    "# https://stackoverflow.com/questions/21971449/how-do-i-increase-the-cell-width-of-the-jupyter-ipython\n",
    "# -notebook-in-my-browser\n",
    "from IPython.display import display, HTML\n",
    "display(HTML(\"<style>.container { width:100% !important; }</style>\"))"
   ]
  },
  {
   "cell_type": "code",
   "execution_count": null,
   "id": "311a6976",
   "metadata": {},
   "outputs": [],
   "source": [
    "# Build a network for the TFs and Pathways\n",
    "%run ./sc_regulatory_network_construction.py\n",
    "dir_name = '/Volumes/ssd/AML_P01/evan_scrna_seq/'\n",
    "file_name = dir_name + 'cor_result_df_cluster_0_061522.csv'\n",
    "cor_result_df = pd.read_csv(file_name, sep=',')\n",
    "# Need to reset index\n",
    "cor_result_df.set_index(keys=cor_result_df.columns[0], drop=True, inplace=True)\n",
    "print(cor_result_df.shape)"
   ]
  },
  {
   "cell_type": "code",
   "execution_count": null,
   "id": "f94d2c57",
   "metadata": {},
   "outputs": [],
   "source": [
    "# Load the data. This is a long step and try to avoid running it!!!\n",
    "file_name = dir_name + 'CEL211011EL_GEX_final_clustered_annotated_pathways_tfs.h5ad'\n",
    "adata = sc.read_h5ad(file_name)"
   ]
  },
  {
   "cell_type": "code",
   "execution_count": null,
   "id": "2331e897",
   "metadata": {},
   "outputs": [],
   "source": [
    "import matplotlib as mpl\n",
    "mpl.rcParams['figure.figsize'] = (12,8)\n",
    "sc.pl.umap(adata, color=['leiden', 'cell.ident'], wspace=0.05, legend_loc='on data', legend_fontsize='large')\n",
    "# Draw replicate ID in other\n",
    "# Generate a new column\n",
    "adata.obs['sample.type'] = adata.obs['replicate.ID'].map(lambda x : x.split('_')[0])\n",
    "sc.pl.umap(adata, color=['replicate.ID', 'sample.type'], wspace=0.2, legend_fontsize='large')"
   ]
  },
  {
   "cell_type": "code",
   "execution_count": null,
   "id": "87eb982c",
   "metadata": {
    "scrolled": true
   },
   "outputs": [],
   "source": [
    "# Check AML and WT cell numbers in each cluster\n",
    "obs_df = pd.DataFrame({'leiden': adata.obs['leiden'],\n",
    "                       'sample.type': adata.obs['sample.type'],\n",
    "                       'replicate.ID': adata.obs['replicate.ID']})\n",
    "HTML(obs_df.groupby(['leiden', 'sample.type']).count().to_html())"
   ]
  },
  {
   "cell_type": "code",
   "execution_count": null,
   "id": "5d0816f4",
   "metadata": {},
   "outputs": [],
   "source": [
    "# Focus on cluster 0 and plot violins for some TFs and Pathways in the above correlation DataFrame\n",
    "adata_cluster_0 = adata[adata.obs['leiden'] == '0']\n",
    "\n",
    "total_features = 16\n",
    "# Get tfs\n",
    "import random\n",
    "tfs_in_df = list(cor_result_df.index)\n",
    "tfs_in_df.pop()\n",
    "tfs_in_df = random.sample(tfs_in_df, total_features)\n",
    "tfs_in_df.sort()\n",
    "\n",
    "def create_violin_df(value_key, features, var_name):\n",
    "    df_cluster_0 = adata_cluster_0.obsm[value_key]\n",
    "    df_cluster_0 = df_cluster_0[features]\n",
    "    df_cluster_0['sample.type'] = adata_cluster_0.obs['sample.type']\n",
    "    df_cluster_0 = pd.melt(df_cluster_0, \n",
    "                           value_vars=df_cluster_0.columns,\n",
    "                           id_vars='sample.type',\n",
    "                           var_name=var_name,\n",
    "                           value_name='AUCell')\n",
    "    return df_cluster_0\n",
    "\n",
    "# Create a TF for plot\n",
    "tfs_aucell_df_cluster_0 = create_violin_df(pa.TF_AUCELL_KEY, tfs_in_df, 'TF')\n",
    "\n",
    "# Get pathways\n",
    "pathways = {p[0:p.rindex('_')] for p in cor_result_df.columns}\n",
    "# Convert to list\n",
    "pathways_in_df = list(pathways)\n",
    "pathways_in_df = random.sample(pathways_in_df, total_features)\n",
    "pathways_in_df.sort()\n",
    "# Create DF\n",
    "pathways_aucell_df_cluster_0 = create_violin_df(pa.AUCELL_KEY, pathways_in_df, 'Pathway')\n",
    "\n",
    "def violin_plot_tfs_pathways(tfs_aucell_df_cluster_0,\n",
    "                             pathways_aucell_df_cluster_0):\n",
    "    # Plot with two rows\n",
    "    fig, axs = plt.subplots(ncols=1, nrows=2)\n",
    "    fig.set_figwidth(30)\n",
    "    fig.set_figheight(12)\n",
    "    sns.violinplot(x=tfs_aucell_df_cluster_0['TF'],\n",
    "                   y=tfs_aucell_df_cluster_0['AUCell'],\n",
    "                   hue=tfs_aucell_df_cluster_0['sample.type'],\n",
    "                   split=True,\n",
    "                   ax=axs[0])\n",
    "    g = sns.violinplot(x=pathways_aucell_df_cluster_0['Pathway'],\n",
    "                   y=pathways_aucell_df_cluster_0['AUCell'],\n",
    "                   hue=pathways_aucell_df_cluster_0['sample.type'],\n",
    "                   split=True,\n",
    "                   ax=axs[1])\n",
    "    g.set_xticklabels(g.get_xticklabels(), rotation=90)\n",
    "\n",
    "violin_plot_tfs_pathways(tfs_aucell_df_cluster_0, pathways_aucell_df_cluster_0)\n",
    "#TODO: May need to adjust the threshol fdr used to select TFs and pathways. Probably also need to consider the actual stats (e.g. folder difference, etc.)"
   ]
  },
  {
   "cell_type": "code",
   "execution_count": null,
   "id": "c6635e02",
   "metadata": {
    "scrolled": true
   },
   "outputs": [],
   "source": [
    "param_cutoff = 0.5\n",
    "param_cutoff_str = '0_5'\n",
    "date = '072622'\n",
    "\n",
    "network = build_network_for_tfs_pathways(cor_result_df, param_cutoff=param_cutoff)\n",
    "# Cannot work with absolute file path!!!\n",
    "file_name = 'network' + '_' + param_cutoff_str + '_' + date + '.html'\n",
    "from IPython.core.display import display, HTML\n",
    "display(HTML(\"<a href=\\\"file:{}\\\">Click to see the network</a>\".format(os.path.abspath(file_name))))\n",
    "# Cannot put the following code in the external script. Otherwise, it cannot show the network.\n",
    "# Also it cannot work in a function!!!\n",
    "network_display_width = 800\n",
    "network_display_height = 800\n",
    "ng = display_network(network, width=network_display_width, height=network_display_height)\n",
    "ng.force_atlas_2based()\n",
    "ng.show(file_name)"
   ]
  },
  {
   "cell_type": "code",
   "execution_count": null,
   "id": "7009f9e3",
   "metadata": {
    "scrolled": true
   },
   "outputs": [],
   "source": [
    "pathway_gmt_file = '../resources/MouseReactomePathways_Rel_79_122921.gmt'\n",
    "pathway2genes = pa._load_reactome_gmt(pathway_gmt_file)\n",
    "tf_file = '../resources/dorothea_mm.tsv'\n",
    "# For the overlap analysis, we pick up as many targets as possible\n",
    "tf2genes = pa.load_dorothea_data(tf_file, ['A', 'B', 'C', 'D', 'E'])\n",
    "s_no_parent_network, overlap_p_values = simplify_network_for_tfs_pathways(pathway2genes, tf2genes, network, \n",
    "                                                                need_parent_pathway=False,\n",
    "                                                                use_direct_interaction=True,\n",
    "                                                                p_value_for_direction_interaction=0.01,\n",
    "                                                                for_pathway_only=False, \n",
    "                                                                add_tf_links=True,\n",
    "                                                                check_with_tf_cor=True,\n",
    "                                                                adata=adata_cluster_0,\n",
    "                                                                tf_cor_cutoff=0.25,\n",
    "                                                                add_pathway_to_tf_links=True,\n",
    "                                                                delete_pathway_only_component=True,\n",
    "                                                                file_output=None, \n",
    "                                                                total_genes=adata.shape[1])\n",
    "# Somehow need to show this dataframe in other cell. Otherwise, the above two cannot be displayed at the same time.\n",
    "HTML(overlap_p_values.sort_values(by = ['Pathway']).to_html())"
   ]
  },
  {
   "cell_type": "code",
   "execution_count": null,
   "id": "2eb5b021",
   "metadata": {
    "scrolled": true
   },
   "outputs": [],
   "source": [
    "overlap_p_values.groupby('TF').min()"
   ]
  },
  {
   "cell_type": "code",
   "execution_count": null,
   "id": "7714e5f2",
   "metadata": {
    "scrolled": true
   },
   "outputs": [],
   "source": [
    "# Display the network\n",
    "file_name = 's_no_parent_network' + '_' + param_cutoff_str + '_' + date + '.html'\n",
    "display(HTML(\"<a href=\\\"file:{}\\\">Click to see the network</a>\".format(file_name)))\n",
    "ng = display_network(s_no_parent_network, width=network_display_width * 2, height=network_display_height * 1.5)\n",
    "ng.force_atlas_2based()\n",
    "ng.show(file_name)"
   ]
  },
  {
   "cell_type": "code",
   "execution_count": null,
   "id": "a73092c6",
   "metadata": {
    "scrolled": true
   },
   "outputs": [],
   "source": [
    "# Just want to take a look at the TF network\n",
    "tfs_in_network = [t for t, a in s_no_parent_network.nodes(data=True) if a['type'] == 'TF']\n",
    "tf_network = build_tfs_network(tfs_in_network, tf2genes, check_with_tf_cor=True, tf_cor_cutoff=0.25, adata=adata_cluster_0)\n",
    "file_name = 'tf_network' + '_' + param_cutoff_str + '_' + date + '.html'\n",
    "display(HTML(\"<a href=\\\"file:{}\\\">Click to see the network</a>\".format(file_name)))\n",
    "ng = display_network(tf_network, width=network_display_width, height=network_display_height)\n",
    "ng.force_atlas_2based()\n",
    "ng.show(file_name)"
   ]
  },
  {
   "cell_type": "code",
   "execution_count": null,
   "id": "288e97a7",
   "metadata": {
    "scrolled": true
   },
   "outputs": [],
   "source": [
    "#%run ./AMLTet2Analysis.py\n",
    "# With parents\n",
    "s_network, overlap_p_values = simplify_network_for_tfs_pathways(pathway2genes, tf2genes, network, \n",
    "                                                                need_parent_pathway=True,\n",
    "                                                                use_direct_interaction=True,\n",
    "                                                                p_value_for_direction_interaction=0.01,\n",
    "                                                                for_pathway_only=False, \n",
    "                                                                add_tf_links=True,\n",
    "                                                                check_with_tf_cor=True,\n",
    "                                                                adata=adata_cluster_0,\n",
    "                                                                tf_cor_cutoff=0.25,\n",
    "                                                                add_pathway_to_tf_links=True,\n",
    "                                                                delete_pathway_only_component=True,\n",
    "                                                                delete_leaf_pathway=True,\n",
    "                                                                file_output=None, \n",
    "                                                                total_genes=adata.shape[1])\n",
    "file_name = 's_network' + '_' + param_cutoff_str + '_' + date + '.html'\n",
    "display(HTML(\"<a href=\\\"file:{}\\\">Click to see the network</a>\".format(file_name)))\n",
    "ng = display_network(s_network, width=network_display_width * 2, height=network_display_height * 1.5)\n",
    "ng.force_atlas_2based()\n",
    "ng.show(file_name)"
   ]
  },
  {
   "cell_type": "code",
   "execution_count": null,
   "id": "03348bc4",
   "metadata": {
    "scrolled": true,
    "tags": []
   },
   "outputs": [],
   "source": [
    "s_leaf_network, overlap_p_values = simplify_network_for_tfs_pathways(pathway2genes, tf2genes, network, \n",
    "                                                                need_parent_pathway=True,\n",
    "                                                                use_direct_interaction=True,\n",
    "                                                                p_value_for_direction_interaction=0.01,\n",
    "                                                                for_pathway_only=False, \n",
    "                                                                add_tf_links=True,\n",
    "                                                                check_with_tf_cor=True,\n",
    "                                                                adata=adata_cluster_0,\n",
    "                                                                tf_cor_cutoff=0.25,\n",
    "                                                                add_pathway_to_tf_links=True,\n",
    "                                                                delete_pathway_only_component=True,\n",
    "                                                                delete_leaf_pathway=False,\n",
    "                                                                file_output=None, \n",
    "                                                                total_genes=adata.shape[1])\n",
    "file_name = 's_leaf_network' + '_' + param_cutoff_str + '_' + date + '.html'\n",
    "display(HTML(\"<a href=\\\"file:{}\\\">Click to see the network</a>\".format(file_name)))\n",
    "ng = display_network(s_leaf_network, width=network_display_width * 2, height=network_display_height * 1.5)\n",
    "ng.force_atlas_2based()\n",
    "ng.show(file_name)"
   ]
  },
  {
   "cell_type": "code",
   "execution_count": null,
   "id": "e87d770c",
   "metadata": {},
   "outputs": [],
   "source": [
    "# Try to see TFs and some of pathways activityes in a network. Use s_no_parent_network since it is the simpliest one.\n",
    "tfs_in_network = [t for t, a in s_no_parent_network.nodes(data=True) if a['type'] == 'TF']\n",
    "print(len(tfs_in_network))\n",
    "total_features = total_features if total_features < len(tfs_in_network) else len(tfs_in_network)\n",
    "# tfs_in_network = random.sample(tfs_in_network, total_features)\n",
    "tfs_in_network.sort()\n",
    "\n",
    "pathways_in_network = [t for t, a in s_no_parent_network.nodes(data=True) if a['type'] == 'Pathway']\n",
    "print(len(pathways_in_network))\n",
    "pathways_in_network = random.sample(pathways_in_network, len(tfs_in_network))\n",
    "pathways_in_network.sort()\n",
    "\n",
    "tfs_aucell_df_network = create_violin_df(pa.TF_AUCELL_KEY, tfs_in_network, 'TF')\n",
    "pathways_aucell_df_network = create_violin_df(pa.AUCELL_KEY, pathways_in_network, 'Pathway')\n",
    "\n",
    "violin_plot_tfs_pathways(tfs_aucell_df_network, pathways_aucell_df_network)"
   ]
  },
  {
   "cell_type": "code",
   "execution_count": null,
   "id": "8e5d47e3",
   "metadata": {
    "scrolled": true,
    "tags": []
   },
   "outputs": [],
   "source": [
    "# Let's just look at pathways with IL in their names\n",
    "il_pathways_in_network = [t for t, a in s_no_parent_network.nodes(data=True) if a['type'] == 'Pathway' and 'Interleukin' in t]\n",
    "print('Total pathways having IL in their names: {}.'.format(len(il_pathways_in_network)))\n",
    "il_pathays_df = create_violin_df(pa.AUCELL_KEY, il_pathways_in_network, 'Pathway')\n",
    "fig, axs = plt.subplots(ncols=1, nrows=1)\n",
    "fig.set_figwidth(30)\n",
    "fig.set_figheight(8)\n",
    "g = sns.violinplot(x=il_pathays_df['Pathway'],\n",
    "                   y=il_pathays_df['AUCell'],\n",
    "                   hue=il_pathays_df['sample.type'],\n",
    "                   split=True, ax=axs)\n",
    "g.set_xticklabels(g.get_xticklabels(), rotation=90)"
   ]
  },
  {
   "attachments": {},
   "cell_type": "markdown",
   "id": "7cd2e1a2",
   "metadata": {},
   "source": [
    "### Revisit pathway and TF activity differential analysis in cluster 0 to better understanding the up/down pathways between AML and WT"
   ]
  },
  {
   "cell_type": "code",
   "execution_count": null,
   "id": "7e6a209f",
   "metadata": {},
   "outputs": [],
   "source": [
    "adata_cluster_0.obs_vector('sample.type').unique()"
   ]
  },
  {
   "attachments": {},
   "cell_type": "markdown",
   "id": "fe1471ea",
   "metadata": {
    "tags": []
   },
   "source": [
    "#### Pathway activity differential analysis in cluster 0"
   ]
  },
  {
   "cell_type": "code",
   "execution_count": null,
   "id": "ad3039a2",
   "metadata": {
    "scrolled": true
   },
   "outputs": [],
   "source": [
    "pathway_diff_df_cluster_0 = cross_sample_analysis(adata_cluster_0, \n",
    "                                                  'AML', \n",
    "                                                  'WT', \n",
    "                                                  sample_key='sample.type',\n",
    "                                                  need_diff=True,\n",
    "                                                  score_type=pa.AUCELL_KEY)\n",
    "file_name = dir_name + 'pathway_diff_df_cluster_0_' + date + '.csv'\n",
    "pathway_diff_df_cluster_0.to_csv(file_name)\n",
    "HTML(pathway_diff_df_cluster_0.to_html())"
   ]
  },
  {
   "cell_type": "code",
   "execution_count": null,
   "id": "ec217696",
   "metadata": {},
   "outputs": [],
   "source": [
    "%run ./AMLTet2Analysis.py\n",
    "plot_df_1 = plot_pathways(pathway_diff_df_cluster_0)"
   ]
  },
  {
   "cell_type": "code",
   "execution_count": null,
   "id": "24f969b9",
   "metadata": {},
   "outputs": [],
   "source": [
    "# Let's look at what up what down in AML\n",
    "_ = plot_pathways(pathway_diff_df_cluster_0, feature_col='median_diff')"
   ]
  },
  {
   "attachments": {},
   "cell_type": "markdown",
   "id": "127c3534",
   "metadata": {},
   "source": [
    "<b>Note</b>: As we see in the violin plots, there are multiple modes in the distributions of pathway activities. Therefore a simple median difference may not be sufficient to show the up/down patterns for many pathways. This is served as a quick exploration to see the complex pattern in DC."
   ]
  },
  {
   "attachments": {},
   "cell_type": "markdown",
   "id": "3a1295b3",
   "metadata": {},
   "source": [
    "#### TF activity differential analysis"
   ]
  },
  {
   "cell_type": "code",
   "execution_count": null,
   "id": "7327a08a",
   "metadata": {
    "scrolled": true
   },
   "outputs": [],
   "source": [
    "tf_diff_df_cluster_0 = cross_sample_analysis(adata_cluster_0, \n",
    "                                                  'AML', \n",
    "                                                  'WT', \n",
    "                                                  sample_key='sample.type',\n",
    "                                                  need_diff=True,\n",
    "                                                  score_type=pa.TF_AUCELL_KEY)\n",
    "print(\"Total TF: {}.\".format(tf_diff_df_cluster_0.shape[0]))\n",
    "file_name = dir_name + 'tf_diff_df_cluster_0_' + date + '.csv'\n",
    "tf_diff_df_cluster_0.to_csv(file_name)\n",
    "HTML(tf_diff_df_cluster_0.to_html())"
   ]
  },
  {
   "cell_type": "code",
   "execution_count": null,
   "id": "6e19b904",
   "metadata": {},
   "outputs": [],
   "source": [
    "%run ./AMLTet2Analysis.py\n",
    "tf_diff_df_cluster_0.sort_values(by=['feature'], inplace=True)\n",
    "_ = plot_tfs(tf_diff_df_cluster_0)"
   ]
  },
  {
   "cell_type": "code",
   "execution_count": null,
   "id": "0e435dc8",
   "metadata": {},
   "outputs": [],
   "source": [
    "_ = plot_tfs(tf_diff_df_cluster_0,  'median_diff')"
   ]
  },
  {
   "cell_type": "code",
   "execution_count": null,
   "id": "e998285a-dcf1-4edf-b073-395927084d2c",
   "metadata": {},
   "outputs": [],
   "source": [
    "add_median_to_nodes(s_no_parent_network, tf_diff_df_cluster_0)\n",
    "add_median_to_nodes(s_network, tf_diff_df_cluster_0)\n",
    "add_median_to_nodes(s_leaf_network, tf_diff_df_cluster_0)\n",
    "\n",
    "add_median_to_nodes(s_no_parent_network, pathway_diff_df_cluster_0)\n",
    "add_median_to_nodes(s_network, pathway_diff_df_cluster_0)\n",
    "add_median_to_nodes(s_leaf_network, pathway_diff_df_cluster_0)\n",
    "\n",
    "# Dump the networkx project into graphml for Cytoscape\n",
    "nx.write_graphml(s_leaf_network, dir_name + 's_leaf_network' + '_' + param_cutoff_str + '_' + date + '.graphml')\n",
    "nx.write_graphml(s_network, dir_name + 's_network' + '_' + param_cutoff_str + '_' + date + '.graphml')\n",
    "nx.write_graphml(s_no_parent_network, dir_name + 's_no_parent_network' + '_' + param_cutoff_str + '_' + date + '.graphml')"
   ]
  },
  {
   "cell_type": "code",
   "execution_count": null,
   "id": "88fc62ce-0791-446c-87f5-cd9f883a19a7",
   "metadata": {},
   "outputs": [],
   "source": [
    "# check some features\n",
    "tf_features = ['Myc', 'Nfkb1', 'Tcf7l2', 'Stat3', 'Nfic', 'Trp53']\n",
    "tf_violin_plot_df = create_violin_df(pa.TF_AUCELL_KEY, tf_features, 'TF')\n",
    "pathway_features = ['Formation of a pool of free 40S subunits', \n",
    "                    'L13a-mediated translational silencing of Ceruloplasmin expression',\n",
    "                    'Interleukin-37 signaling',\n",
    "                    'Regulation of IFNG signaling',\n",
    "                    'Interleukin-21 signaling']\n",
    "pathway_violin_plot_df = create_violin_df(pa.AUCELL_KEY, pathway_features, 'Pathway')\n",
    "violin_plot_tfs_pathways(tf_violin_plot_df, pathway_violin_plot_df)\n",
    "# sc.pl.umap(adata, color=['leiden', 'Trp53'])"
   ]
  },
  {
   "cell_type": "code",
   "execution_count": null,
   "id": "e193ac96-4158-4587-943d-76d76fa4baef",
   "metadata": {},
   "outputs": [],
   "source": [
    "# Do some plots for the DRSN poster\n",
    "tfs = [x for x, y in network.nodes(data=True) if y['type'] == 'TF']\n",
    "tfs_16 = random.sample(tfs, 16)\n",
    "tfs_16.sort()\n",
    "fig, axs = plt.subplots(ncols=1, nrows=4)\n",
    "fig.set_figwidth(30)\n",
    "fig.set_figheight(30)\n",
    "for i in range(0, len(tfs_16), 4):\n",
    "    ax_index = int(i / 4)\n",
    "    tfs_plot = tfs_16[i:i+4]\n",
    "    tf_violin_plot_df = create_violin_df(pa.TF_AUCELL_KEY, tfs_plot, 'TF')\n",
    "    g = sns.violinplot(x=tf_violin_plot_df['TF'],\n",
    "                       y=tf_violin_plot_df['AUCell'],\n",
    "                       hue=tf_violin_plot_df['sample.type'],\n",
    "                       split=True,\n",
    "                       ax=axs[ax_index])\n",
    "    g.set_xlabel(g.get_xlabel(), fontsize=24)\n",
    "    g.set_ylabel(g.get_ylabel(), fontsize=24)\n",
    "    g.set_xticklabels(g.get_xticklabels(), fontsize=20)"
   ]
  },
  {
   "cell_type": "code",
   "execution_count": null,
   "id": "b136e353-e801-4a8a-8993-50a7c3536ac0",
   "metadata": {},
   "outputs": [],
   "source": [
    "tf_df = adata_cluster_0.obsm[pa.TF_AUCELL_KEY]\n",
    "pathway_df = adata_cluster_0.obsm[pa.AUCELL_KEY]\n",
    "# tf_df = adata.obsm[pa.TF_AUCELL_KEY]\n",
    "tf1 = 'E2f4'\n",
    "tf2 = 'Bach1'\n",
    "fig, axs = plt.subplots(ncols=2, nrows=1)\n",
    "fig.set_figwidth(30)\n",
    "fig.set_figheight(8)\n",
    "g = sns.scatterplot(tf_df[tf1], tf_df[tf2], ax = axs[0])\n",
    "print(stats.spearmanr(tf_df[tf1], tf_df[tf2]))\n",
    "g = sns.scatterplot(tf_df['Tcf7l2'], pathway_df['PTK6 Activates STAT3'], ax = axs[1])\n",
    "# print(tf_df['Tcf7l2'], pathway_df['PTK6 Activates STAT3'])"
   ]
  }
 ],
 "metadata": {
  "kernelspec": {
   "display_name": "Python 3 (ipykernel)",
   "language": "python",
   "name": "python3"
  },
  "language_info": {
   "codemirror_mode": {
    "name": "ipython",
    "version": 3
   },
   "file_extension": ".py",
   "mimetype": "text/x-python",
   "name": "python",
   "nbconvert_exporter": "python",
   "pygments_lexer": "ipython3",
   "version": "3.7.7"
  }
 },
 "nbformat": 4,
 "nbformat_minor": 5
}
